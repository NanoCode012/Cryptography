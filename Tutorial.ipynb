{
 "cells": [
  {
   "cell_type": "markdown",
   "id": "novel-drinking",
   "metadata": {},
   "source": [
    "## Require Python 3.8"
   ]
  },
  {
   "cell_type": "markdown",
   "id": "elder-contribution",
   "metadata": {},
   "source": [
    "This notebook aims to demonstrate the application of the implementation of RSA for a university project.\n",
    "\n",
    "Repo: https://github.com/NanoCode012/Cryptography"
   ]
  },
  {
   "cell_type": "markdown",
   "id": "convinced-continuity",
   "metadata": {},
   "source": [
    "## Import "
   ]
  },
  {
   "cell_type": "code",
   "execution_count": null,
   "id": "composed-bunny",
   "metadata": {},
   "outputs": [],
   "source": [
    "import os\n",
    "from IPython.display import Image\n",
    "from IPython.display import Video\n",
    "from IPython.display import clear_output"
   ]
  },
  {
   "cell_type": "markdown",
   "id": "floating-supplement",
   "metadata": {},
   "source": [
    "## Download repo"
   ]
  },
  {
   "cell_type": "code",
   "execution_count": 2,
   "id": "active-money",
   "metadata": {},
   "outputs": [],
   "source": [
    "!rm -rf Cryptography"
   ]
  },
  {
   "cell_type": "code",
   "execution_count": 3,
   "id": "convertible-sentence",
   "metadata": {},
   "outputs": [
    {
     "name": "stdout",
     "output_type": "stream",
     "text": [
      "Cloning into 'Cryptography'...\n",
      "remote: Enumerating objects: 268, done.\u001b[K\n",
      "remote: Counting objects: 100% (268/268), done.\u001b[K\n",
      "remote: Compressing objects: 100% (155/155), done.\u001b[K\n",
      "remote: Total 268 (delta 159), reused 208 (delta 105), pack-reused 0\u001b[K\n",
      "Receiving objects: 100% (268/268), 333.03 KiB | 3.50 MiB/s, done.\n",
      "Resolving deltas: 100% (159/159), done.\n"
     ]
    }
   ],
   "source": [
    "!git clone https://github.com/NanoCode012/Cryptography.git"
   ]
  },
  {
   "cell_type": "code",
   "execution_count": 4,
   "id": "invisible-serum",
   "metadata": {},
   "outputs": [
    {
     "name": "stdout",
     "output_type": "stream",
     "text": [
      "/usr/src/app/Cryptography\n"
     ]
    }
   ],
   "source": [
    "%cd Cryptography"
   ]
  },
  {
   "cell_type": "markdown",
   "id": "marked-thanksgiving",
   "metadata": {},
   "source": [
    "## Setup"
   ]
  },
  {
   "cell_type": "code",
   "execution_count": 5,
   "id": "equipped-world",
   "metadata": {},
   "outputs": [
    {
     "name": "stdout",
     "output_type": "stream",
     "text": [
      "\u001b[33mWARNING: You are using pip version 21.0.1; however, version 21.1.1 is available.\n",
      "You should consider upgrading via the '/opt/conda/bin/python -m pip install --upgrade pip' command.\u001b[0m\n"
     ]
    }
   ],
   "source": [
    "!pip install -qr requirements.txt"
   ]
  },
  {
   "cell_type": "code",
   "execution_count": 6,
   "id": "hungarian-moldova",
   "metadata": {},
   "outputs": [
    {
     "name": "stdout",
     "output_type": "stream",
     "text": [
      "Compiling AES/aes_c.pyx because it changed.\n",
      "[1/1] Cythonizing AES/aes_c.pyx\n",
      "running build_ext\n",
      "building 'aes_c' extension\n",
      "creating build\n",
      "creating build/temp.linux-x86_64-3.8\n",
      "creating build/temp.linux-x86_64-3.8/AES\n",
      "gcc -pthread -B /opt/conda/compiler_compat -Wl,--sysroot=/ -Wsign-compare -DNDEBUG -g -fwrapv -O3 -Wall -Wstrict-prototypes -fPIC -I/opt/conda/include/python3.8 -c AES/aes_c.c -o build/temp.linux-x86_64-3.8/AES/aes_c.o\n",
      "\u001b[01m\u001b[KAES/aes_c.c:\u001b[m\u001b[K In function ‘\u001b[01m\u001b[K__Pyx_modinit_type_init_code\u001b[m\u001b[K’:\n",
      "\u001b[01m\u001b[KAES/aes_c.c:16311:3:\u001b[m\u001b[K \u001b[01;35m\u001b[Kwarning: \u001b[m\u001b[K‘\u001b[01m\u001b[Ktp_print\u001b[m\u001b[K’ is deprecated [\u001b[01;35m\u001b[K-Wdeprecated-declarations\u001b[m\u001b[K]\n",
      "16311 |   \u001b[01;35m\u001b[K__pyx_type_5aes_c___pyx_scope_struct__xor_bytes\u001b[m\u001b[K.tp_print = 0;\n",
      "      |   \u001b[01;35m\u001b[K^~~~~~~~~~~~~~~~~~~~~~~~~~~~~~~~~~~~~~~~~~~~~~~\u001b[m\u001b[K\n",
      "In file included from \u001b[01m\u001b[K/opt/conda/include/python3.8/object.h:746\u001b[m\u001b[K,\n",
      "                 from \u001b[01m\u001b[K/opt/conda/include/python3.8/pytime.h:6\u001b[m\u001b[K,\n",
      "                 from \u001b[01m\u001b[K/opt/conda/include/python3.8/Python.h:85\u001b[m\u001b[K,\n",
      "                 from \u001b[01m\u001b[KAES/aes_c.c:16\u001b[m\u001b[K:\n",
      "\u001b[01m\u001b[K/opt/conda/include/python3.8/cpython/object.h:260:30:\u001b[m\u001b[K \u001b[01;36m\u001b[Knote: \u001b[m\u001b[Kdeclared here\n",
      "  260 |     Py_DEPRECATED(3.8) int (*\u001b[01;36m\u001b[Ktp_print\u001b[m\u001b[K)(PyObject *, FILE *, int);\n",
      "      |                              \u001b[01;36m\u001b[K^~~~~~~~\u001b[m\u001b[K\n",
      "\u001b[01m\u001b[KAES/aes_c.c:16317:3:\u001b[m\u001b[K \u001b[01;35m\u001b[Kwarning: \u001b[m\u001b[K‘\u001b[01m\u001b[Ktp_print\u001b[m\u001b[K’ is deprecated [\u001b[01;35m\u001b[K-Wdeprecated-declarations\u001b[m\u001b[K]\n",
      "16317 |   \u001b[01;35m\u001b[K__pyx_type_5aes_c___pyx_scope_struct_1_genexpr\u001b[m\u001b[K.tp_print = 0;\n",
      "      |   \u001b[01;35m\u001b[K^~~~~~~~~~~~~~~~~~~~~~~~~~~~~~~~~~~~~~~~~~~~~~\u001b[m\u001b[K\n",
      "In file included from \u001b[01m\u001b[K/opt/conda/include/python3.8/object.h:746\u001b[m\u001b[K,\n",
      "                 from \u001b[01m\u001b[K/opt/conda/include/python3.8/pytime.h:6\u001b[m\u001b[K,\n",
      "                 from \u001b[01m\u001b[K/opt/conda/include/python3.8/Python.h:85\u001b[m\u001b[K,\n",
      "                 from \u001b[01m\u001b[KAES/aes_c.c:16\u001b[m\u001b[K:\n",
      "\u001b[01m\u001b[K/opt/conda/include/python3.8/cpython/object.h:260:30:\u001b[m\u001b[K \u001b[01;36m\u001b[Knote: \u001b[m\u001b[Kdeclared here\n",
      "  260 |     Py_DEPRECATED(3.8) int (*\u001b[01;36m\u001b[Ktp_print\u001b[m\u001b[K)(PyObject *, FILE *, int);\n",
      "      |                              \u001b[01;36m\u001b[K^~~~~~~~\u001b[m\u001b[K\n",
      "\u001b[01m\u001b[KAES/aes_c.c:16323:3:\u001b[m\u001b[K \u001b[01;35m\u001b[Kwarning: \u001b[m\u001b[K‘\u001b[01m\u001b[Ktp_print\u001b[m\u001b[K’ is deprecated [\u001b[01;35m\u001b[K-Wdeprecated-declarations\u001b[m\u001b[K]\n",
      "16323 |   \u001b[01;35m\u001b[K__pyx_type_5aes_c___pyx_scope_struct_2_unpad\u001b[m\u001b[K.tp_print = 0;\n",
      "      |   \u001b[01;35m\u001b[K^~~~~~~~~~~~~~~~~~~~~~~~~~~~~~~~~~~~~~~~~~~~\u001b[m\u001b[K\n",
      "In file included from \u001b[01m\u001b[K/opt/conda/include/python3.8/object.h:746\u001b[m\u001b[K,\n",
      "                 from \u001b[01m\u001b[K/opt/conda/include/python3.8/pytime.h:6\u001b[m\u001b[K,\n",
      "                 from \u001b[01m\u001b[K/opt/conda/include/python3.8/Python.h:85\u001b[m\u001b[K,\n",
      "                 from \u001b[01m\u001b[KAES/aes_c.c:16\u001b[m\u001b[K:\n",
      "\u001b[01m\u001b[K/opt/conda/include/python3.8/cpython/object.h:260:30:\u001b[m\u001b[K \u001b[01;36m\u001b[Knote: \u001b[m\u001b[Kdeclared here\n",
      "  260 |     Py_DEPRECATED(3.8) int (*\u001b[01;36m\u001b[Ktp_print\u001b[m\u001b[K)(PyObject *, FILE *, int);\n",
      "      |                              \u001b[01;36m\u001b[K^~~~~~~~\u001b[m\u001b[K\n",
      "\u001b[01m\u001b[KAES/aes_c.c:16329:3:\u001b[m\u001b[K \u001b[01;35m\u001b[Kwarning: \u001b[m\u001b[K‘\u001b[01m\u001b[Ktp_print\u001b[m\u001b[K’ is deprecated [\u001b[01;35m\u001b[K-Wdeprecated-declarations\u001b[m\u001b[K]\n",
      "16329 |   \u001b[01;35m\u001b[K__pyx_type_5aes_c___pyx_scope_struct_3_genexpr\u001b[m\u001b[K.tp_print = 0;\n",
      "      |   \u001b[01;35m\u001b[K^~~~~~~~~~~~~~~~~~~~~~~~~~~~~~~~~~~~~~~~~~~~~~\u001b[m\u001b[K\n",
      "In file included from \u001b[01m\u001b[K/opt/conda/include/python3.8/object.h:746\u001b[m\u001b[K,\n",
      "                 from \u001b[01m\u001b[K/opt/conda/include/python3.8/pytime.h:6\u001b[m\u001b[K,\n",
      "                 from \u001b[01m\u001b[K/opt/conda/include/python3.8/Python.h:85\u001b[m\u001b[K,\n",
      "                 from \u001b[01m\u001b[KAES/aes_c.c:16\u001b[m\u001b[K:\n",
      "\u001b[01m\u001b[K/opt/conda/include/python3.8/cpython/object.h:260:30:\u001b[m\u001b[K \u001b[01;36m\u001b[Knote: \u001b[m\u001b[Kdeclared here\n",
      "  260 |     Py_DEPRECATED(3.8) int (*\u001b[01;36m\u001b[Ktp_print\u001b[m\u001b[K)(PyObject *, FILE *, int);\n",
      "      |                              \u001b[01;36m\u001b[K^~~~~~~~\u001b[m\u001b[K\n",
      "\u001b[01m\u001b[KAES/aes_c.c:16335:3:\u001b[m\u001b[K \u001b[01;35m\u001b[Kwarning: \u001b[m\u001b[K‘\u001b[01m\u001b[Ktp_print\u001b[m\u001b[K’ is deprecated [\u001b[01;35m\u001b[K-Wdeprecated-declarations\u001b[m\u001b[K]\n",
      "16335 |   \u001b[01;35m\u001b[K__pyx_type_5aes_c___pyx_scope_struct_4_main\u001b[m\u001b[K.tp_print = 0;\n",
      "      |   \u001b[01;35m\u001b[K^~~~~~~~~~~~~~~~~~~~~~~~~~~~~~~~~~~~~~~~~~~\u001b[m\u001b[K\n",
      "In file included from \u001b[01m\u001b[K/opt/conda/include/python3.8/object.h:746\u001b[m\u001b[K,\n",
      "                 from \u001b[01m\u001b[K/opt/conda/include/python3.8/pytime.h:6\u001b[m\u001b[K,\n",
      "                 from \u001b[01m\u001b[K/opt/conda/include/python3.8/Python.h:85\u001b[m\u001b[K,\n",
      "                 from \u001b[01m\u001b[KAES/aes_c.c:16\u001b[m\u001b[K:\n",
      "\u001b[01m\u001b[K/opt/conda/include/python3.8/cpython/object.h:260:30:\u001b[m\u001b[K \u001b[01;36m\u001b[Knote: \u001b[m\u001b[Kdeclared here\n",
      "  260 |     Py_DEPRECATED(3.8) int (*\u001b[01;36m\u001b[Ktp_print\u001b[m\u001b[K)(PyObject *, FILE *, int);\n",
      "      |                              \u001b[01;36m\u001b[K^~~~~~~~\u001b[m\u001b[K\n",
      "creating build/lib.linux-x86_64-3.8\n",
      "gcc -pthread -shared -B /opt/conda/compiler_compat -L/opt/conda/lib -Wl,-rpath=/opt/conda/lib -Wl,--no-as-needed -Wl,--sysroot=/ build/temp.linux-x86_64-3.8/AES/aes_c.o -o build/lib.linux-x86_64-3.8/aes_c.cpython-38-x86_64-linux-gnu.so\n",
      "copying build/lib.linux-x86_64-3.8/aes_c.cpython-38-x86_64-linux-gnu.so -> \n",
      "Compiling RSA/rsa_c.pyx because it changed.\n",
      "[1/1] Cythonizing RSA/rsa_c.pyx\n",
      "running build_ext\n",
      "building 'rsa_c' extension\n",
      "creating build/temp.linux-x86_64-3.8/RSA\n",
      "gcc -pthread -B /opt/conda/compiler_compat -Wl,--sysroot=/ -Wsign-compare -DNDEBUG -g -fwrapv -O3 -Wall -Wstrict-prototypes -fPIC -I/opt/conda/include/python3.8 -c RSA/rsa_c.c -o build/temp.linux-x86_64-3.8/RSA/rsa_c.o\n",
      "gcc -pthread -shared -B /opt/conda/compiler_compat -L/opt/conda/lib -Wl,-rpath=/opt/conda/lib -Wl,--no-as-needed -Wl,--sysroot=/ build/temp.linux-x86_64-3.8/RSA/rsa_c.o -o build/lib.linux-x86_64-3.8/rsa_c.cpython-38-x86_64-linux-gnu.so\n",
      "copying build/lib.linux-x86_64-3.8/rsa_c.cpython-38-x86_64-linux-gnu.so -> \n",
      "Compiling util/parser_c.pyx because it changed.\n",
      "[1/1] Cythonizing util/parser_c.pyx\n",
      "running build_ext\n",
      "building 'parser_c' extension\n",
      "creating build/temp.linux-x86_64-3.8/util\n",
      "gcc -pthread -B /opt/conda/compiler_compat -Wl,--sysroot=/ -Wsign-compare -DNDEBUG -g -fwrapv -O3 -Wall -Wstrict-prototypes -fPIC -I/opt/conda/include/python3.8 -c util/parser_c.c -o build/temp.linux-x86_64-3.8/util/parser_c.o\n",
      "gcc -pthread -shared -B /opt/conda/compiler_compat -L/opt/conda/lib -Wl,-rpath=/opt/conda/lib -Wl,--no-as-needed -Wl,--sysroot=/ build/temp.linux-x86_64-3.8/util/parser_c.o -o build/lib.linux-x86_64-3.8/parser_c.cpython-38-x86_64-linux-gnu.so\n",
      "copying build/lib.linux-x86_64-3.8/parser_c.cpython-38-x86_64-linux-gnu.so -> \n"
     ]
    }
   ],
   "source": [
    "!python setup.py build_ext --inplace\n",
    "clear_output(wait=True)"
   ]
  },
  {
   "cell_type": "code",
   "execution_count": 7,
   "id": "individual-fraction",
   "metadata": {},
   "outputs": [],
   "source": [
    "def read_bytes_outputs(length=100):\n",
    "    with open('output/file.encrypted', 'rb') as f:\n",
    "        print('Encrypted: ')\n",
    "        print(f.read()[:length])\n",
    "        \n",
    "    print()\n",
    "    \n",
    "    with open('output/file.decrypted', 'rb') as f:\n",
    "        print('Decrypted: ')\n",
    "        print(f.read()[:length])"
   ]
  },
  {
   "cell_type": "markdown",
   "id": "accepted-public",
   "metadata": {},
   "source": [
    "## Download example files"
   ]
  },
  {
   "cell_type": "code",
   "execution_count": 8,
   "id": "incredible-incentive",
   "metadata": {},
   "outputs": [],
   "source": [
    "!curl -s -X POST https://lipsum.com/feed/json -d \"amount=20\" | jq -r '.feed.lipsum' > file.txt"
   ]
  },
  {
   "cell_type": "code",
   "execution_count": 9,
   "id": "significant-plymouth",
   "metadata": {},
   "outputs": [
    {
     "name": "stdout",
     "output_type": "stream",
     "text": [
      "  % Total    % Received % Xferd  Average Speed   Time    Time     Time  Current\n",
      "                                 Dload  Upload   Total   Spent    Left  Speed\n",
      "100  260k  100  260k    0     0   473k      0 --:--:-- --:--:-- --:--:--  473k\n"
     ]
    }
   ],
   "source": [
    "# Author: Ira Abramov from Even Yehuda, Israel \n",
    "# Source: https://commons.wikimedia.org/wiki/File:Adi_Shamir_2009_crop.jpg\n",
    "!curl https://upload.wikimedia.org/wikipedia/commons/0/06/Adi_Shamir_2009_crop.jpg > shamir.jpg"
   ]
  },
  {
   "cell_type": "code",
   "execution_count": 10,
   "id": "occupational-underground",
   "metadata": {},
   "outputs": [
    {
     "name": "stdout",
     "output_type": "stream",
     "text": [
      "  % Total    % Received % Xferd  Average Speed   Time    Time     Time  Current\n",
      "                                 Dload  Upload   Total   Spent    Left  Speed\n",
      "100   621  100   621    0     0   1544      0 --:--:-- --:--:-- --:--:--  1548\n",
      "100 2327k  100 2327k    0     0  1856k      0  0:00:0- --:--:-- --:--:--     01  0:00:01 --:--:-- 5968k\n"
     ]
    }
   ],
   "source": [
    "# Video by Nicolas Boulard from Pixabay\n",
    "!curl -LO https://github.com/NanoCode012/Cryptography/releases/download/v1.0.0/countdown.mp4"
   ]
  },
  {
   "cell_type": "markdown",
   "id": "sporting-grounds",
   "metadata": {},
   "source": [
    "## Running"
   ]
  },
  {
   "cell_type": "code",
   "execution_count": 11,
   "id": "skilled-singer",
   "metadata": {},
   "outputs": [
    {
     "name": "stdout",
     "output_type": "stream",
     "text": [
      "Importing prime.. Please run setup.py\n",
      "usage: app.py [-h] [--task TASK] [--input INPUT] [--output OUTPUT] [--show]\n",
      "              [--aes-key-size AES_KEY_SIZE] [--aes-key AES_KEY]\n",
      "              [--aes-iv AES_IV] [--rsa-key-size RSA_KEY_SIZE]\n",
      "              [--rsa-pub RSA_PUB] [--rsa-priv RSA_PRIV]\n",
      "\n",
      "optional arguments:\n",
      "  -h, --help            show this help message and exit\n",
      "  --task TASK           See below if else block\n",
      "  --input INPUT         text or path to file\n",
      "  --output OUTPUT       output path\n",
      "  --show                output to console\n",
      "  --aes-key-size AES_KEY_SIZE\n",
      "                        AES key size in bytes\n",
      "  --aes-key AES_KEY     AES key path\n",
      "  --aes-iv AES_IV       AES iv path\n",
      "  --rsa-key-size RSA_KEY_SIZE\n",
      "                        RSA key size in bits\n",
      "  --rsa-pub RSA_PUB     RSA public key path in PEM format\n",
      "  --rsa-priv RSA_PRIV   RSA private key path in PEM format\n"
     ]
    }
   ],
   "source": [
    "!python app.py --help"
   ]
  },
  {
   "cell_type": "markdown",
   "id": "adopted-brother",
   "metadata": {},
   "source": [
    "### Text only"
   ]
  },
  {
   "cell_type": "code",
   "execution_count": 12,
   "id": "prostate-embassy",
   "metadata": {},
   "outputs": [
    {
     "name": "stdout",
     "output_type": "stream",
     "text": [
      "Importing prime.. Please run setup.py\n",
      "func:'__init__' kwargs:[{}] took: 0.4969 sec\n",
      "func:'encrypt' kwargs:[{}] took: 0.0002 sec\n",
      "func:'decrypt' kwargs:[{'use_chinese_algo': True}] took: 0.0084 sec\n",
      "Test successful: RSA encryption + decryption\n"
     ]
    }
   ],
   "source": [
    "!python app.py --task test_rsa --input 'IT SECURITY'"
   ]
  },
  {
   "cell_type": "markdown",
   "id": "informed-sodium",
   "metadata": {},
   "source": [
    "Note: By default, read_outputs only shows first 100 characters"
   ]
  },
  {
   "cell_type": "code",
   "execution_count": 13,
   "id": "viral-islam",
   "metadata": {},
   "outputs": [
    {
     "name": "stdout",
     "output_type": "stream",
     "text": [
      "Encrypted: \n",
      "b\")\\x8c\\xc6o aD\\x19\\xf6\\x7f\\x11\\x066\\xba\\x82\\t>\\xbc\\x80\\xdc\\xf5NJ\\xc6\\xef\\x0f\\x9b\\xa3\\x14\\xf9#\\xb7\\xd4\\xf3\\xa2m\\x147I\\xa0\\x9b1^&_w\\xe62\\xef\\x81\\x98\\xa1\\xdaY\\x94\\x9d\\x07[!\\x94M\\xf9\\xb2\\xab6\\xb0\\xf9|\\xbc\\x9e9\\n\\xdc,C~k9\\x8a2\\x80\\x8d\\x04(\\xd7?\\xbd\\xf3\\x05\\x17\\xb0\\x83w\\x8bp\\xcd\\xcf\\x18'\\x81\"\n",
      "\n",
      "Decrypted: \n",
      "b'IT SECURITY'\n"
     ]
    }
   ],
   "source": [
    "read_bytes_outputs()"
   ]
  },
  {
   "cell_type": "markdown",
   "id": "severe-windows",
   "metadata": {},
   "source": [
    "## Text file"
   ]
  },
  {
   "cell_type": "code",
   "execution_count": 14,
   "id": "opened-belgium",
   "metadata": {},
   "outputs": [
    {
     "name": "stdout",
     "output_type": "stream",
     "text": [
      "Importing prime.. Please run setup.py\n",
      "func:'__init__' kwargs:[{}] took: 0.5158 sec\n",
      "func:'encrypt' kwargs:[{}] took: 0.0151 sec\n",
      "func:'decrypt' kwargs:[{'use_chinese_algo': True}] took: 0.7481 sec\n",
      "Test successful: RSA encryption + decryption\n"
     ]
    }
   ],
   "source": [
    "!python app.py --task test_rsa --input file.txt"
   ]
  },
  {
   "cell_type": "code",
   "execution_count": 15,
   "id": "parallel-bonus",
   "metadata": {},
   "outputs": [
    {
     "name": "stdout",
     "output_type": "stream",
     "text": [
      "Encrypted: \n",
      "b\"JT\\x9e%\\x9e\\xf18?\\xaf\\xb9\\xd7\\xc7\\xf9\\x87\\xb8\\xbeR\\\\\\x8d\\xf7\\xfd\\x17\\xacW\\xf07x\\xd9\\x8fo\\xbb\\xe6,Q7$v-\\xb9\\x90\\x00\\xc4(\\x1e;\\x85\\\\'\\xdc\\xd50\\xdfe!\\xe1E\\xc5\\xba\\x0f\\xac9\\xc0\\xd2\\xc6\\xfa\\xe3F\\xbf\\xae%\\x97\\xce\\x08i\\x96\\x14\\xa6\\x0fEmx\\xc3S\\xbfQ\\xd6tZ3a\\x06\\xe9\\x11\\xf9I\\x08\\x03\\x15m!\"\n",
      "\n",
      "Decrypted: \n",
      "b'Etiam cursus venenatis libero, quis pretium tortor viverra non. Donec non auctor sem, a pulvinar dui'\n"
     ]
    }
   ],
   "source": [
    "read_bytes_outputs()"
   ]
  },
  {
   "cell_type": "markdown",
   "id": "structural-performance",
   "metadata": {},
   "source": [
    "## Text file (large key)"
   ]
  },
  {
   "cell_type": "code",
   "execution_count": 16,
   "id": "overhead-quick",
   "metadata": {},
   "outputs": [
    {
     "name": "stdout",
     "output_type": "stream",
     "text": [
      "Importing prime.. Please run setup.py\n",
      "func:'__init__' kwargs:[{}] took: 27.6463 sec\n",
      "func:'encrypt' kwargs:[{}] took: 0.0486 sec\n",
      "func:'decrypt' kwargs:[{'use_chinese_algo': True}] took: 8.7159 sec\n",
      "Test successful: RSA encryption + decryption\n"
     ]
    }
   ],
   "source": [
    "!python app.py --task test_rsa --input file.txt --rsa-key-size 4096"
   ]
  },
  {
   "cell_type": "code",
   "execution_count": 17,
   "id": "convinced-diana",
   "metadata": {},
   "outputs": [
    {
     "name": "stdout",
     "output_type": "stream",
     "text": [
      "Encrypted: \n",
      "b'>\\t\\x11\"\\x9d#\\t\\xec\\x97\\xb6d\\xfa\\xb6\\r\\xf63\\xd2a\\xfeIH\\xb6\\x9b\\xd3\\x94\\x07\\xdb\\x95~\\xbe\\xd7\\xf9\\xe5\\xd2\\xc1\\xd0\\xa0\\x9dB=\\xe0\\xd4\\x80b\\xf4-*\\xfc\\xd4\\x8c\\xeb\\x9f4\\x9c\\x07b7e\\x0cU\\xea\\x9e\\xdcPB`\\xb4\\t=\\x11l\\x01\\xe6R\\x9eR\\xef]\\xbfA\\xab1S\\xae}\\xcd\\xb9\\xedNM\\x1eZ\\x92\\x83\\xba\\x94\\x94\\xd41\\xaa'\n",
      "\n",
      "Decrypted: \n",
      "b'Etiam cursus venenatis libero, quis pretium tortor viverra non. Donec non auctor sem, a pulvinar dui'\n"
     ]
    }
   ],
   "source": [
    "read_bytes_outputs()"
   ]
  },
  {
   "cell_type": "markdown",
   "id": "turkish-encoding",
   "metadata": {},
   "source": [
    "### Image (load previous key)"
   ]
  },
  {
   "cell_type": "code",
   "execution_count": 18,
   "id": "requested-seeking",
   "metadata": {},
   "outputs": [
    {
     "name": "stdout",
     "output_type": "stream",
     "text": [
      "Importing prime.. Please run setup.py\n",
      "func:'__init__' kwargs:[{'bits': 4096, 'generate': False}] took: 0.0000 sec\n",
      "func:'encrypt' kwargs:[{}] took: 1.1008 sec\n",
      "func:'decrypt' kwargs:[{'use_chinese_algo': True}] took: 198.0634 sec\n",
      "Test successful: RSA encryption + decryption\n"
     ]
    }
   ],
   "source": [
    "!python app.py --task test_rsa --input shamir.jpg --rsa-priv output/key"
   ]
  },
  {
   "cell_type": "code",
   "execution_count": 19,
   "id": "herbal-addiction",
   "metadata": {},
   "outputs": [
    {
     "name": "stdout",
     "output_type": "stream",
     "text": [
      "Encrypted: \n",
      "b'\\x00C<\\x9a.\\x03\\x01\\x04\\xa3\\xae\\x95\\x0eQ\\x81\\xb3\\x00\\t*\\xfaw\\x18\\xb0I\\xb1D/\\xd3T\\xe0\\xc1\\xc8\\xc6\\x0f\\x97@\\x18L\\xd4\\xfaI\\xa7\\xa6\\x83\\x15YZ\\xa0\\xf7\\xbcdC\\xe4\\xe1I\\x0f\\xfb\\xc0=\\x98\\xbd\\xf4\\x7f|\\xdd7\\x96{\\x06\\xcd\\xb6\\xb1\\x86\\xd9R}w\\x85\\x8f\\x808\\xa9\\x00\\x03\\xfa\\x10\\xd0p\\x813\\xbdhX\\xc4Z;\\x1dS\\xcd\\xa1p'\n",
      "\n",
      "Decrypted: \n",
      "b'\\xff\\xd8\\xff\\xe0\\x00\\x10JFIF\\x00\\x01\\x01\\x01\\x00`\\x00`\\x00\\x00\\xff\\xe1\\x00\\xa6Exif\\x00\\x00II*\\x00\\x08\\x00\\x00\\x00\\x06\\x00\\x1a\\x01\\x05\\x00\\x01\\x00\\x00\\x00V\\x00\\x00\\x00\\x1b\\x01\\x05\\x00\\x01\\x00\\x00\\x00^\\x00\\x00\\x00(\\x01\\x03\\x00\\x01\\x00\\x00\\x00\\x02\\x00\\x00\\x001\\x01\\x02\\x00\\x12\\x00\\x00\\x00f\\x00\\x00\\x00;\\x01\\x02\\x00\\x0c\\x00\\x00\\x00x\\x00\\x00\\x00'\n"
     ]
    }
   ],
   "source": [
    "read_bytes_outputs()"
   ]
  },
  {
   "cell_type": "code",
   "execution_count": 20,
   "id": "complimentary-violation",
   "metadata": {},
   "outputs": [],
   "source": [
    "!cp output/file.decrypted output/file.png"
   ]
  },
  {
   "cell_type": "code",
   "execution_count": null,
   "id": "incoming-adventure",
   "metadata": {},
   "outputs": [],
   "source": [
    "Image(filename='output/file.png') "
   ]
  },
  {
   "cell_type": "markdown",
   "id": "chief-thunder",
   "metadata": {},
   "source": [
    "### Video"
   ]
  },
  {
   "cell_type": "code",
   "execution_count": 22,
   "id": "parental-failure",
   "metadata": {},
   "outputs": [
    {
     "name": "stdout",
     "output_type": "stream",
     "text": [
      "Importing prime.. Please run setup.py\n",
      "func:'__init__' kwargs:[{}] took: 0.7663 sec\n",
      "func:'encrypt' kwargs:[{}] took: 3.1356 sec\n",
      "func:'decrypt' kwargs:[{'use_chinese_algo': True}] took: 154.7218 sec\n",
      "Test successful: RSA encryption + decryption\n"
     ]
    }
   ],
   "source": [
    "!python app.py --task test_rsa --input countdown.mp4"
   ]
  },
  {
   "cell_type": "code",
   "execution_count": 23,
   "id": "through-termination",
   "metadata": {},
   "outputs": [
    {
     "name": "stdout",
     "output_type": "stream",
     "text": [
      "Encrypted: \n",
      "b\"\\x1d\\xb1\\x1cn9\\xfa-s\\xa28\\xb2\\xcdf\\x96C\\xc9W\\xd03\\x8c\\x00\\xaa\\xfdY4\\xc5e\\xf3MV~j)\\x86\\x80{L\\xa5S\\x9c\\xa8\\xe5\\xaa\\xff\\xe4\\x90\\xe6\\x12`\\xd7\\xfc\\x99T\\x81@\\tu\\x1e\\xeff\\x94[\\x93IP\\xfe[7\\xe9\\xfb1\\xae\\x0c\\xb9\\xcd!v\\x9d@j\\xb1[')\\xf3\\x1f\\x07\\xc4H\\x05*\\xeck\\xf0\\xb7\\xbaFL\\xc2,\"\n",
      "\n",
      "Decrypted: \n",
      "b\"\\x00\\x00\\x00 ftypmp42\\x00\\x00\\x00\\x00mp42mp41isomavc1\\x00\\x00\\r\\x17moov\\x00\\x00\\x00lmvhd\\x00\\x00\\x00\\x00\\xd3'\\xd3\\xa3\\xd3'\\xd3\\xa3\\x00\\x00\\x00\\x19\\x00\\x00\\x00\\xbf\\x00\\x01\\x00\\x00\\x01\\x00\\x00\\x00\\x00\\x00\\x00\\x00\\x00\\x00\\x00\\x00\\x00\\x01\\x00\\x00\\x00\\x00\\x00\\x00\\x00\\x00\\x00\\x00\\x00\\x00\\x00\\x00\"\n"
     ]
    }
   ],
   "source": [
    "read_bytes_outputs()"
   ]
  },
  {
   "cell_type": "code",
   "execution_count": 24,
   "id": "proper-ethernet",
   "metadata": {},
   "outputs": [],
   "source": [
    "!cp output/file.decrypted output/file.mp4"
   ]
  },
  {
   "cell_type": "code",
   "execution_count": null,
   "id": "incomplete-arbitration",
   "metadata": {},
   "outputs": [],
   "source": [
    "Video('output/file.mp4', embed=True)"
   ]
  },
  {
   "cell_type": "markdown",
   "id": "exceptional-drink",
   "metadata": {},
   "source": [
    "## AES hybrid"
   ]
  },
  {
   "cell_type": "code",
   "execution_count": 26,
   "id": "continued-modern",
   "metadata": {},
   "outputs": [
    {
     "name": "stdout",
     "output_type": "stream",
     "text": [
      "Importing prime.. Please run setup.py\n",
      "func:'encrypt_aes' kwargs:[{}] took: 7.1462 sec\n",
      "func:'decrypt_aes' kwargs:[{}] took: 7.1397 sec\n",
      "func:'__init__' kwargs:[{}] took: 0.2901 sec\n",
      "func:'encrypt' kwargs:[{}] took: 0.0002 sec\n",
      "func:'decrypt' kwargs:[{}] took: 0.0083 sec\n",
      "Test successful: AES encryption + decryption of file AND RSA encryption + decryption of keys\n"
     ]
    }
   ],
   "source": [
    "!python app.py --task test --input countdown.mp4"
   ]
  },
  {
   "cell_type": "code",
   "execution_count": 27,
   "id": "patient-sunset",
   "metadata": {},
   "outputs": [
    {
     "name": "stdout",
     "output_type": "stream",
     "text": [
      "Encrypted: \n",
      "b\"\\xaf\\x19\\xffP\\x06\\x82\\x16\\xc0\\xad\\x96/\\xfa\\x00_\\x94\\xe8\\\\\\x94\\xb3\\xa7\\x113oll\\x1c\\x82O\\xaf\\xd0a\\xa1JY\\xbc\\x05\\x1e@\\xd3\\xc8\\x04\\xec\\xd1bn\\xa4'\\xf1\\xce\\xeaI-\\xb4\\x90\\xe12OW\\xe0o\\x89\\x8fZ-\\xf8\\xd2\\xea;M\\xab\\xe7\\xaa4\\xeb\\x96\\x80\\x0b\\x95\\x9e\\xaa\\x07\\xd6S+\\xd2\\x80\\x03\\xe2c\\xe0\\xa4WO\\x95\\xfc\\xad}r5^\"\n",
      "\n",
      "Decrypted: \n",
      "b\"\\x00\\x00\\x00 ftypmp42\\x00\\x00\\x00\\x00mp42mp41isomavc1\\x00\\x00\\r\\x17moov\\x00\\x00\\x00lmvhd\\x00\\x00\\x00\\x00\\xd3'\\xd3\\xa3\\xd3'\\xd3\\xa3\\x00\\x00\\x00\\x19\\x00\\x00\\x00\\xbf\\x00\\x01\\x00\\x00\\x01\\x00\\x00\\x00\\x00\\x00\\x00\\x00\\x00\\x00\\x00\\x00\\x00\\x01\\x00\\x00\\x00\\x00\\x00\\x00\\x00\\x00\\x00\\x00\\x00\\x00\\x00\\x00\"\n"
     ]
    }
   ],
   "source": [
    "read_bytes_outputs()"
   ]
  },
  {
   "cell_type": "code",
   "execution_count": 28,
   "id": "black-warner",
   "metadata": {},
   "outputs": [],
   "source": [
    "!cp output/file.decrypted output/file.mp4"
   ]
  },
  {
   "cell_type": "code",
   "execution_count": null,
   "id": "dangerous-spencer",
   "metadata": {},
   "outputs": [],
   "source": [
    "Video('output/file.mp4', embed=True)"
   ]
  },
  {
   "cell_type": "markdown",
   "id": "south-prediction",
   "metadata": {},
   "source": [
    "## Unit tests"
   ]
  },
  {
   "cell_type": "code",
   "execution_count": 30,
   "id": "revised-colony",
   "metadata": {},
   "outputs": [
    {
     "name": "stdout",
     "output_type": "stream",
     "text": [
      "Importing prime.. Please run setup.py\n",
      "...................................................\n",
      "----------------------------------------------------------------------\n",
      "Ran 51 tests in 6.094s\n",
      "\n",
      "OK\n"
     ]
    }
   ],
   "source": [
    "!python test.py"
   ]
  },
  {
   "cell_type": "code",
   "execution_count": null,
   "id": "annual-orientation",
   "metadata": {},
   "outputs": [],
   "source": []
  }
 ],
 "metadata": {
  "kernelspec": {
   "display_name": "Python 3",
   "language": "python",
   "name": "python3"
  },
  "language_info": {
   "codemirror_mode": {
    "name": "ipython",
    "version": 3
   },
   "file_extension": ".py",
   "mimetype": "text/x-python",
   "name": "python",
   "nbconvert_exporter": "python",
   "pygments_lexer": "ipython3",
   "version": "3.8.5"
  }
 },
 "nbformat": 4,
 "nbformat_minor": 5
}
