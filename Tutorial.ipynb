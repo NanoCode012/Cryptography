{
 "cells": [
  {
   "cell_type": "markdown",
   "id": "surprising-representative",
   "metadata": {},
   "source": [
    "## Require Python 3.8"
   ]
  },
  {
   "cell_type": "markdown",
   "id": "seventh-longer",
   "metadata": {},
   "source": [
    "This notebook aims to demonstrate the application of the implementation of RSA for a university project. \n",
    "\n",
    "Repo: https://github.com/NanoCode012/Cryptography\n",
    "\n",
    "_WARNING_: This notebook does NOT work in colab because python version in colab < 3.8 and some IPython imports do not work. \n",
    "\n",
    "_Recommended_: Please run this in a Jupyter or Jupyterlab environment"
   ]
  },
  {
   "cell_type": "markdown",
   "id": "reserved-benjamin",
   "metadata": {},
   "source": [
    "## Import "
   ]
  },
  {
   "cell_type": "code",
   "execution_count": 1,
   "id": "cubic-henry",
   "metadata": {},
   "outputs": [],
   "source": [
    "import os\n",
    "from IPython.display import Image\n",
    "from IPython.display import Video\n",
    "from IPython.display import clear_output"
   ]
  },
  {
   "cell_type": "markdown",
   "id": "bored-relations",
   "metadata": {},
   "source": [
    "## Download repo"
   ]
  },
  {
   "cell_type": "code",
   "execution_count": 2,
   "id": "advisory-devon",
   "metadata": {},
   "outputs": [],
   "source": [
    "!rm -rf Cryptography"
   ]
  },
  {
   "cell_type": "code",
   "execution_count": 3,
   "id": "cooperative-destination",
   "metadata": {},
   "outputs": [
    {
     "name": "stdout",
     "output_type": "stream",
     "text": [
      "Cloning into 'Cryptography'...\n",
      "remote: Enumerating objects: 278, done.\u001b[K\n",
      "remote: Counting objects: 100% (278/278), done.\u001b[K\n",
      "remote: Compressing objects: 100% (162/162), done.\u001b[K\n",
      "remote: Total 278 (delta 164), reused 216 (delta 108), pack-reused 0\u001b[K\n",
      "Receiving objects: 100% (278/278), 341.07 KiB | 4.01 MiB/s, done.\n",
      "Resolving deltas: 100% (164/164), done.\n"
     ]
    }
   ],
   "source": [
    "!git clone https://github.com/NanoCode012/Cryptography.git"
   ]
  },
  {
   "cell_type": "code",
   "execution_count": 4,
   "id": "peripheral-spencer",
   "metadata": {},
   "outputs": [
    {
     "name": "stdout",
     "output_type": "stream",
     "text": [
      "/usr/src/app/Cryptography\n"
     ]
    }
   ],
   "source": [
    "%cd Cryptography"
   ]
  },
  {
   "cell_type": "markdown",
   "id": "floppy-poultry",
   "metadata": {},
   "source": [
    "## Setup"
   ]
  },
  {
   "cell_type": "code",
   "execution_count": 5,
   "id": "marked-springer",
   "metadata": {},
   "outputs": [
    {
     "name": "stdout",
     "output_type": "stream",
     "text": [
      "\u001b[33mWARNING: You are using pip version 21.0.1; however, version 21.1.1 is available.\n",
      "You should consider upgrading via the '/opt/conda/bin/python -m pip install --upgrade pip' command.\u001b[0m\n"
     ]
    }
   ],
   "source": [
    "!pip install -qr requirements.txt"
   ]
  },
  {
   "cell_type": "code",
   "execution_count": 6,
   "id": "brilliant-classification",
   "metadata": {},
   "outputs": [],
   "source": [
    "!python setup.py build_ext --inplace\n",
    "clear_output()"
   ]
  },
  {
   "cell_type": "code",
   "execution_count": 7,
   "id": "round-candle",
   "metadata": {},
   "outputs": [],
   "source": [
    "def read_bytes_outputs(length=100):\n",
    "    max_length = os.stat('output/file.encrypted').st_size\n",
    "    with open('output/file.encrypted', 'rb') as f:\n",
    "        print(f'Encrypted (max_len={max_length}, showing={min(max_length, length)}): ')\n",
    "        print(f.read()[:length])\n",
    "        \n",
    "    print()\n",
    "    \n",
    "    max_length = os.stat('output/file.decrypted').st_size\n",
    "    with open('output/file.decrypted', 'rb') as f:\n",
    "        \n",
    "        print(f'Decrypted (max_len={max_length}, showing={min(max_length, length)}): ')\n",
    "        print(f.read()[:length])"
   ]
  },
  {
   "cell_type": "markdown",
   "id": "individual-collar",
   "metadata": {},
   "source": [
    "## Download example files"
   ]
  },
  {
   "cell_type": "code",
   "execution_count": 8,
   "id": "enhanced-programming",
   "metadata": {},
   "outputs": [],
   "source": [
    "# Lorum ipsum text API\n",
    "!curl -s -X POST https://lipsum.com/feed/json -d \"amount=20\" | jq -r '.feed.lipsum' > file.txt"
   ]
  },
  {
   "cell_type": "code",
   "execution_count": 9,
   "id": "plastic-graham",
   "metadata": {},
   "outputs": [
    {
     "name": "stdout",
     "output_type": "stream",
     "text": [
      "  % Total    % Received % Xferd  Average Speed   Time    Time     Time  Current\n",
      "                                 Dload  Upload   Total   Spent    Left  Speed\n",
      "100  260k  100  260k    0     0   589k      0 --:--:-- --:--:-- --:--:--  588k\n"
     ]
    }
   ],
   "source": [
    "# Author: Ira Abramov from Even Yehuda, Israel \n",
    "# Source: https://commons.wikimedia.org/wiki/File:Adi_Shamir_2009_crop.jpg\n",
    "!curl https://upload.wikimedia.org/wikipedia/commons/0/06/Adi_Shamir_2009_crop.jpg > shamir.jpg"
   ]
  },
  {
   "cell_type": "code",
   "execution_count": 10,
   "id": "explicit-incentive",
   "metadata": {},
   "outputs": [
    {
     "name": "stdout",
     "output_type": "stream",
     "text": [
      "  % Total    % Received % Xferd  Average Speed   Time    Time     Time  Current\n",
      "                                 Dload  Upload   Total   Spent    Left  Speed\n",
      "100   621  100   621    0     0   1572      0 --:--:-- --:--:-- --:--:--  1568\n",
      "100 2327k  100 2327k    0     0  1099k      0  0:00:02  0:00:02 --:--:-- 2807k\n"
     ]
    }
   ],
   "source": [
    "# Video by Nicolas Boulard from Pixabay\n",
    "!curl -LO https://github.com/NanoCode012/Cryptography/releases/download/v1.0.0/countdown.mp4"
   ]
  },
  {
   "cell_type": "markdown",
   "id": "appointed-lawsuit",
   "metadata": {},
   "source": [
    "## Running"
   ]
  },
  {
   "cell_type": "code",
   "execution_count": 11,
   "id": "thorough-grade",
   "metadata": {},
   "outputs": [
    {
     "name": "stdout",
     "output_type": "stream",
     "text": [
      "Importing prime.. Please run setup.py\n",
      "usage: app.py [-h] [--task TASK] [--input INPUT] [--output OUTPUT] [--show]\n",
      "              [--aes-key-size AES_KEY_SIZE] [--aes-key AES_KEY]\n",
      "              [--aes-iv AES_IV] [--rsa-key-size RSA_KEY_SIZE]\n",
      "              [--rsa-pub RSA_PUB] [--rsa-priv RSA_PRIV]\n",
      "\n",
      "optional arguments:\n",
      "  -h, --help            show this help message and exit\n",
      "  --task TASK           See below if else block\n",
      "  --input INPUT         text or path to file\n",
      "  --output OUTPUT       output path\n",
      "  --show                output to console\n",
      "  --aes-key-size AES_KEY_SIZE\n",
      "                        AES key size in bytes\n",
      "  --aes-key AES_KEY     AES key path\n",
      "  --aes-iv AES_IV       AES iv path\n",
      "  --rsa-key-size RSA_KEY_SIZE\n",
      "                        RSA key size in bits\n",
      "  --rsa-pub RSA_PUB     RSA public key path in PEM format\n",
      "  --rsa-priv RSA_PRIV   RSA private key path in PEM format\n"
     ]
    }
   ],
   "source": [
    "!python app.py --help"
   ]
  },
  {
   "cell_type": "markdown",
   "id": "imposed-environment",
   "metadata": {},
   "source": [
    "### Text only"
   ]
  },
  {
   "cell_type": "code",
   "execution_count": 12,
   "id": "sophisticated-dutch",
   "metadata": {},
   "outputs": [
    {
     "name": "stdout",
     "output_type": "stream",
     "text": [
      "Importing prime.. Please run setup.py\n",
      "func:'__init__' kwargs:[{}] took: 0.2332 sec\n",
      "func:'encrypt' kwargs:[{}] took: 0.0002 sec\n",
      "func:'decrypt' kwargs:[{'use_chinese_algo': True}] took: 0.0084 sec\n",
      "Test successful: RSA encryption + decryption\n"
     ]
    }
   ],
   "source": [
    "!python app.py --task test_rsa --input 'IT SECURITY'"
   ]
  },
  {
   "cell_type": "markdown",
   "id": "informational-sheffield",
   "metadata": {},
   "source": [
    "Note: By default, read_outputs only shows first 100 characters"
   ]
  },
  {
   "cell_type": "code",
   "execution_count": 13,
   "id": "standing-massachusetts",
   "metadata": {},
   "outputs": [
    {
     "name": "stdout",
     "output_type": "stream",
     "text": [
      "Encrypted (max_len=256, showing=100): \n",
      "b'\\\\\\xbb\\xa5\\xbe\\x04 O\\x8cU\\x80\\xa5=\\x0b\\xfc?\\xcd\\x98\\xcf\\xc9|NI\\xbcr\\x11Q\\xa9n\\xe1U\\x7f>\\xdd\\x89)o\\x87\\xb7\\x99D\\xb4\\x92K\\xc9\\xc2KhA\\x8arZ\\xb9\\x08\\xe8\\x08\\xecW\\x08\\xbcM\\xb6\\\\g7|\\xbc\\xd6\\xea\\x10o\\xc1uE\\x08>)\\xfe^\\x94\\xb6\\xb5R\\x96\\x9a:5\\xc0\\xd9\\xfbTk\\x9b\\xe1.\\xf7\\x14\\xbdK\\xce='\n",
      "\n",
      "Decrypted (max_len=11, showing=11): \n",
      "b'IT SECURITY'\n"
     ]
    }
   ],
   "source": [
    "read_bytes_outputs()"
   ]
  },
  {
   "cell_type": "markdown",
   "id": "greek-auckland",
   "metadata": {},
   "source": [
    "## Text file"
   ]
  },
  {
   "cell_type": "code",
   "execution_count": 14,
   "id": "prostate-wealth",
   "metadata": {},
   "outputs": [
    {
     "name": "stdout",
     "output_type": "stream",
     "text": [
      "Importing prime.. Please run setup.py\n",
      "func:'__init__' kwargs:[{}] took: 0.9733 sec\n",
      "func:'encrypt' kwargs:[{}] took: 0.0165 sec\n",
      "func:'decrypt' kwargs:[{'use_chinese_algo': True}] took: 0.8291 sec\n",
      "Test successful: RSA encryption + decryption\n"
     ]
    }
   ],
   "source": [
    "!python app.py --task test_rsa --input file.txt"
   ]
  },
  {
   "cell_type": "code",
   "execution_count": 15,
   "id": "every-harris",
   "metadata": {},
   "outputs": [
    {
     "name": "stdout",
     "output_type": "stream",
     "text": [
      "Encrypted (max_len=25600, showing=100): \n",
      "b')V\\xa8F\\xb5l\\xf0oFg \\x8e\\x8b\\x00\\xd3\\x91P \\x17#\\x1a\\x12\\x82Ze\\x95\\xb4\\xaf\\xdaE\\xbc\\xfc\\xeet\\xaa\\xc2\\xb1\\xbf\\xa0y\\xa3\\xbei\\x82\\x1e\\x94Y\\xc1\\x87\\x89\\xc5D\\x96\\xc5f\\x17o\\xdb/\\xdeZ\\xa8\\xd8:\\x88X&\\\\d.\\xf6\\x9b\\xb4\\xc8/\\xa6\\x97\\xb1\\x14\\xf9:\\x9fs\\x02\\xb9\\x87\\xd6p\\xae\\xe8\\x8e9ngXc_E_\\x8d'\n",
      "\n",
      "Decrypted (max_len=12751, showing=100): \n",
      "b'Nulla magna quam, faucibus a sem at, interdum consequat nulla. Aliquam vehicula dolor quam, eu laore'\n"
     ]
    }
   ],
   "source": [
    "read_bytes_outputs()"
   ]
  },
  {
   "cell_type": "markdown",
   "id": "complicated-chuck",
   "metadata": {},
   "source": [
    "## Text file (large key)"
   ]
  },
  {
   "cell_type": "markdown",
   "id": "imperial-russian",
   "metadata": {},
   "source": [
    "We supply the key-size via `rsa-key-size` in bits"
   ]
  },
  {
   "cell_type": "code",
   "execution_count": 16,
   "id": "metric-billy",
   "metadata": {},
   "outputs": [
    {
     "name": "stdout",
     "output_type": "stream",
     "text": [
      "Importing prime.. Please run setup.py\n",
      "func:'__init__' kwargs:[{}] took: 114.1130 sec\n",
      "func:'encrypt' kwargs:[{}] took: 0.0531 sec\n",
      "func:'decrypt' kwargs:[{'use_chinese_algo': True}] took: 9.5111 sec\n",
      "Test successful: RSA encryption + decryption\n"
     ]
    }
   ],
   "source": [
    "!python app.py --task test_rsa --input file.txt --rsa-key-size 4096"
   ]
  },
  {
   "cell_type": "code",
   "execution_count": 17,
   "id": "visible-wrist",
   "metadata": {},
   "outputs": [
    {
     "name": "stdout",
     "output_type": "stream",
     "text": [
      "Encrypted (max_len=25600, showing=100): \n",
      "b\">[\\xaf\\xe6U\\x99\\xd48?\\x10{\\xc0\\xacf\\xf2\\x1e\\x96k\\xd6\\x93\\xc8\\xf7\\xa9\\x17\\x19\\xd9\\x07/R\\xda\\xcf\\xe8L\\xee\\xd3\\xcf\\xa0\\xad\\xabU{o;W&(]P\\xe6\\x8ep\\xd1\\r\\x91\\x15e\\xf8'\\xd8Oy\\xe4\\xa5{\\x80y\\xb9\\x1a\\xafcc\\xd4\\x8d\\x10\\xc8\\xb9&Ng\\xa4\\x1e\\x83/.\\xb5\\xfao\\nw\\xf7\\xce\\xab)\\x87\\xd1V\\xdd\\x14\\xcf\\xb3\"\n",
      "\n",
      "Decrypted (max_len=12751, showing=100): \n",
      "b'Nulla magna quam, faucibus a sem at, interdum consequat nulla. Aliquam vehicula dolor quam, eu laore'\n"
     ]
    }
   ],
   "source": [
    "read_bytes_outputs()"
   ]
  },
  {
   "cell_type": "markdown",
   "id": "painted-sphere",
   "metadata": {},
   "source": [
    "### Image (load previous key)"
   ]
  },
  {
   "cell_type": "markdown",
   "id": "respective-footwear",
   "metadata": {},
   "source": [
    "We load the previous private key via the `rsa-priv` argument"
   ]
  },
  {
   "cell_type": "code",
   "execution_count": 18,
   "id": "appropriate-peripheral",
   "metadata": {},
   "outputs": [
    {
     "name": "stdout",
     "output_type": "stream",
     "text": [
      "Importing prime.. Please run setup.py\n",
      "func:'__init__' kwargs:[{'bits': 4096, 'generate': False}] took: 0.0000 sec\n",
      "func:'encrypt' kwargs:[{}] took: 1.1059 sec\n",
      "func:'decrypt' kwargs:[{'use_chinese_algo': True}] took: 198.6248 sec\n",
      "Test successful: RSA encryption + decryption\n"
     ]
    }
   ],
   "source": [
    "!python app.py --task test_rsa --input shamir.jpg --rsa-priv output/key"
   ]
  },
  {
   "cell_type": "code",
   "execution_count": 19,
   "id": "juvenile-speaker",
   "metadata": {},
   "outputs": [
    {
     "name": "stdout",
     "output_type": "stream",
     "text": [
      "Encrypted (max_len=534528, showing=100): \n",
      "b'L\\x8e\\xe7x\\xb7\\xef\\xe4\\x92\\x18\\xf4\\x864\\xe2F\\xa4V\\xdb\\x91l\\x1c\\xa6.\\x8f\\xe6\\xd8:,A\\xa2|\\x1f\\x81f\\xe5*\\xf6\\x0bN\\xba[K\\x9f\\x890\\xb8\\x9a\\x11FHm\\xe5\\xa2\\xea:\\xa22\\n~\\xcd\\xeb\\xda\\x1b\\xb7\\xf3\\xa4{\\xb3\\x81&\\x17(c\\x98_\\x8eAi8\\x17\\xc9\\xe61\\n_\\xf5\\xcfg\\xf1\\xcc\\x1acT4\\xac\\xf2\\x1b\\xd8\\x00\\xb6\\xdb'\n",
      "\n",
      "Decrypted (max_len=266821, showing=100): \n",
      "b'\\xff\\xd8\\xff\\xe0\\x00\\x10JFIF\\x00\\x01\\x01\\x01\\x00`\\x00`\\x00\\x00\\xff\\xe1\\x00\\xa6Exif\\x00\\x00II*\\x00\\x08\\x00\\x00\\x00\\x06\\x00\\x1a\\x01\\x05\\x00\\x01\\x00\\x00\\x00V\\x00\\x00\\x00\\x1b\\x01\\x05\\x00\\x01\\x00\\x00\\x00^\\x00\\x00\\x00(\\x01\\x03\\x00\\x01\\x00\\x00\\x00\\x02\\x00\\x00\\x001\\x01\\x02\\x00\\x12\\x00\\x00\\x00f\\x00\\x00\\x00;\\x01\\x02\\x00\\x0c\\x00\\x00\\x00x\\x00\\x00\\x00'\n"
     ]
    }
   ],
   "source": [
    "read_bytes_outputs()"
   ]
  },
  {
   "cell_type": "code",
   "execution_count": 20,
   "id": "passing-context",
   "metadata": {},
   "outputs": [],
   "source": [
    "!cp output/file.decrypted output/file.png"
   ]
  },
  {
   "cell_type": "markdown",
   "id": "existing-might",
   "metadata": {},
   "source": [
    "Note: Embedding is cleared to retain small file size"
   ]
  },
  {
   "cell_type": "code",
   "execution_count": null,
   "id": "dramatic-three",
   "metadata": {},
   "outputs": [],
   "source": [
    "Image(filename='output/file.png') "
   ]
  },
  {
   "cell_type": "markdown",
   "id": "subtle-comedy",
   "metadata": {},
   "source": [
    "### Video"
   ]
  },
  {
   "cell_type": "code",
   "execution_count": 22,
   "id": "blond-retention",
   "metadata": {},
   "outputs": [
    {
     "name": "stdout",
     "output_type": "stream",
     "text": [
      "Importing prime.. Please run setup.py\n",
      "func:'__init__' kwargs:[{}] took: 0.5900 sec\n",
      "func:'encrypt' kwargs:[{}] took: 3.0819 sec\n",
      "func:'decrypt' kwargs:[{'use_chinese_algo': True}] took: 157.3583 sec\n",
      "Test successful: RSA encryption + decryption\n"
     ]
    }
   ],
   "source": [
    "!python app.py --task test_rsa --input countdown.mp4"
   ]
  },
  {
   "cell_type": "code",
   "execution_count": 23,
   "id": "textile-copying",
   "metadata": {},
   "outputs": [
    {
     "name": "stdout",
     "output_type": "stream",
     "text": [
      "Encrypted (max_len=4767744, showing=100): \n",
      "b'\\x1d;\\xbc\\xce\\xeaj\\x1c\\x12\\xc8U?0C\\xa6k\\xcd)\\x1b\\xaa\\xa1\\xedH\\r`\\x00\\x18-\\xb6\\xc3\\x19\\xf9\\x7f\\x17:\\xec\\xb9,\\x8f\\xaa\\x86\\xe3G\\xd8\\xfc\\x84AC\\x90|\\x02Fr[x\\xe3\\x9b\\x1d\\xab\\xb2\\xacZ\\xc0\\x91\\x04\\xc2 \\xd1u\\xf5\\xe4`\\x18\\xf9.$\\xab}i\\xfa\\xb9\\x99\\x058\\xc8wY\\x90\\xef\\xf9\\xcfvVp0O\\x95=E\\xfb\\r'\n",
      "\n",
      "Decrypted (max_len=2383768, showing=100): \n",
      "b\"\\x00\\x00\\x00 ftypmp42\\x00\\x00\\x00\\x00mp42mp41isomavc1\\x00\\x00\\r\\x17moov\\x00\\x00\\x00lmvhd\\x00\\x00\\x00\\x00\\xd3'\\xd3\\xa3\\xd3'\\xd3\\xa3\\x00\\x00\\x00\\x19\\x00\\x00\\x00\\xbf\\x00\\x01\\x00\\x00\\x01\\x00\\x00\\x00\\x00\\x00\\x00\\x00\\x00\\x00\\x00\\x00\\x00\\x01\\x00\\x00\\x00\\x00\\x00\\x00\\x00\\x00\\x00\\x00\\x00\\x00\\x00\\x00\"\n"
     ]
    }
   ],
   "source": [
    "read_bytes_outputs()"
   ]
  },
  {
   "cell_type": "code",
   "execution_count": 24,
   "id": "buried-burns",
   "metadata": {},
   "outputs": [],
   "source": [
    "!cp output/file.decrypted output/file.mp4"
   ]
  },
  {
   "cell_type": "markdown",
   "id": "specific-perth",
   "metadata": {},
   "source": [
    "Note: Embedding is cleared to retain small file size"
   ]
  },
  {
   "cell_type": "code",
   "execution_count": null,
   "id": "accompanied-battlefield",
   "metadata": {},
   "outputs": [],
   "source": [
    "Video('output/file.mp4', embed=True)"
   ]
  },
  {
   "cell_type": "markdown",
   "id": "structural-madagascar",
   "metadata": {},
   "source": [
    "## AES hybrid"
   ]
  },
  {
   "cell_type": "markdown",
   "id": "amazing-taxation",
   "metadata": {},
   "source": [
    "Note: The second `encrypt` and `decrypt` belongs to RSA"
   ]
  },
  {
   "cell_type": "code",
   "execution_count": 26,
   "id": "extended-dublin",
   "metadata": {},
   "outputs": [
    {
     "name": "stdout",
     "output_type": "stream",
     "text": [
      "Importing prime.. Please run setup.py\n",
      "func:'encrypt_aes' kwargs:[{}] took: 7.1697 sec\n",
      "func:'decrypt_aes' kwargs:[{}] took: 7.1701 sec\n",
      "func:'__init__' kwargs:[{}] took: 0.3665 sec\n",
      "func:'encrypt' kwargs:[{}] took: 0.0002 sec\n",
      "func:'decrypt' kwargs:[{}] took: 0.0083 sec\n",
      "Test successful: AES encryption + decryption of file AND RSA encryption + decryption of keys\n"
     ]
    }
   ],
   "source": [
    "!python app.py --task test --input countdown.mp4"
   ]
  },
  {
   "cell_type": "code",
   "execution_count": 27,
   "id": "damaged-henry",
   "metadata": {},
   "outputs": [
    {
     "name": "stdout",
     "output_type": "stream",
     "text": [
      "Encrypted (max_len=2383768, showing=100): \n",
      "b'\\x8dr\\xa7\\xbc\\x88\\x1e#\\xf9s\\xa6k0R\\xad\\x9c\\x9eTX\\x17\\xd8\\xf9\\x91\\x16\\xd4\\t$\\xfb&\\xa3\\xf7\\xd0*:\\xae\\xb9\\x1b$tK\\xa4}6\\x0b\\x83\\xecb\\xa3\\x1a\\xd9\\x147D\\x11+\\x84\\xd3\\xf8\\x83R\\x0cR}Fei\\xb5\\x9fQ\\xa1q\\x010\\xcd\\x18/J\\xbc/\\xc2\\xca9\\xc9\\x1e\\xca[\\xb8\\x84\\x03\\x12\\xef\"\\x06\\x0c\\xa5\\x96\\xeb\\xd7\\x99t\\xf5'\n",
      "\n",
      "Decrypted (max_len=2383768, showing=100): \n",
      "b\"\\x00\\x00\\x00 ftypmp42\\x00\\x00\\x00\\x00mp42mp41isomavc1\\x00\\x00\\r\\x17moov\\x00\\x00\\x00lmvhd\\x00\\x00\\x00\\x00\\xd3'\\xd3\\xa3\\xd3'\\xd3\\xa3\\x00\\x00\\x00\\x19\\x00\\x00\\x00\\xbf\\x00\\x01\\x00\\x00\\x01\\x00\\x00\\x00\\x00\\x00\\x00\\x00\\x00\\x00\\x00\\x00\\x00\\x01\\x00\\x00\\x00\\x00\\x00\\x00\\x00\\x00\\x00\\x00\\x00\\x00\\x00\\x00\"\n"
     ]
    }
   ],
   "source": [
    "read_bytes_outputs()"
   ]
  },
  {
   "cell_type": "code",
   "execution_count": 28,
   "id": "automatic-creator",
   "metadata": {},
   "outputs": [],
   "source": [
    "!cp output/file.decrypted output/file.mp4"
   ]
  },
  {
   "cell_type": "markdown",
   "id": "healthy-halifax",
   "metadata": {},
   "source": [
    "Note: Embedding is cleared to retain small file size"
   ]
  },
  {
   "cell_type": "code",
   "execution_count": null,
   "id": "crucial-primary",
   "metadata": {},
   "outputs": [],
   "source": [
    "Video('output/file.mp4', embed=True)"
   ]
  },
  {
   "cell_type": "markdown",
   "id": "miniature-flooring",
   "metadata": {},
   "source": [
    "## Unit tests"
   ]
  },
  {
   "cell_type": "code",
   "execution_count": 30,
   "id": "herbal-receiver",
   "metadata": {},
   "outputs": [
    {
     "name": "stdout",
     "output_type": "stream",
     "text": [
      "Importing prime.. Please run setup.py\n",
      "...................................................\n",
      "----------------------------------------------------------------------\n",
      "Ran 51 tests in 6.596s\n",
      "\n",
      "OK\n"
     ]
    }
   ],
   "source": [
    "!python test.py"
   ]
  },
  {
   "cell_type": "markdown",
   "id": "italian-needle",
   "metadata": {},
   "source": [
    "## Benchmark (Generate prime)"
   ]
  },
  {
   "cell_type": "code",
   "execution_count": 31,
   "id": "clinical-pulse",
   "metadata": {},
   "outputs": [
    {
     "name": "stdout",
     "output_type": "stream",
     "text": [
      "The slowest run took 18.78 times longer than the fastest. This could mean that an intermediate result is being cached.\n",
      "3.52 s ± 2.84 s per loop (mean ± std. dev. of 7 runs, 1 loop each)\n"
     ]
    }
   ],
   "source": [
    "from util.prime import getPrime\n",
    "%timeit getPrime(2048)"
   ]
  },
  {
   "cell_type": "code",
   "execution_count": 32,
   "id": "adjacent-swimming",
   "metadata": {},
   "outputs": [
    {
     "name": "stdout",
     "output_type": "stream",
     "text": [
      "The slowest run took 18.48 times longer than the fastest. This could mean that an intermediate result is being cached.\n",
      "2.08 s ± 1.9 s per loop (mean ± std. dev. of 7 runs, 1 loop each)\n"
     ]
    }
   ],
   "source": [
    "from Crypto.Util.number import getPrime\n",
    "%timeit getPrime(2048)"
   ]
  }
 ],
 "metadata": {
  "kernelspec": {
   "display_name": "Python 3",
   "language": "python",
   "name": "python3"
  },
  "language_info": {
   "codemirror_mode": {
    "name": "ipython",
    "version": 3
   },
   "file_extension": ".py",
   "mimetype": "text/x-python",
   "name": "python",
   "nbconvert_exporter": "python",
   "pygments_lexer": "ipython3",
   "version": "3.8.5"
  }
 },
 "nbformat": 4,
 "nbformat_minor": 5
}
